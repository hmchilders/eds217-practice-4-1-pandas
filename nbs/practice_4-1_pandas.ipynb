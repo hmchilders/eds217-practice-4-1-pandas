{
 "cells": [
  {
   "cell_type": "code",
   "execution_count": 255,
   "metadata": {},
   "outputs": [],
   "source": [
    "#import essential data science libraries\n",
    "import pandas as pd\n",
    "import numpy as np\n",
    "import matplotlib.pyplot as plt"
   ]
  },
  {
   "cell_type": "markdown",
   "metadata": {},
   "source": [
    "## Practice 1-1"
   ]
  },
  {
   "cell_type": "code",
   "execution_count": 246,
   "metadata": {},
   "outputs": [
    {
     "data": {
      "text/html": [
       "<div>\n",
       "<style scoped>\n",
       "    .dataframe tbody tr th:only-of-type {\n",
       "        vertical-align: middle;\n",
       "    }\n",
       "\n",
       "    .dataframe tbody tr th {\n",
       "        vertical-align: top;\n",
       "    }\n",
       "\n",
       "    .dataframe thead th {\n",
       "        text-align: right;\n",
       "    }\n",
       "</style>\n",
       "<table border=\"1\" class=\"dataframe\">\n",
       "  <thead>\n",
       "    <tr style=\"text-align: right;\">\n",
       "      <th></th>\n",
       "      <th>River</th>\n",
       "      <th>Length(km)</th>\n",
       "      <th>Drainage Area(km^2)</th>\n",
       "    </tr>\n",
       "  </thead>\n",
       "  <tbody>\n",
       "    <tr>\n",
       "      <th>0</th>\n",
       "      <td>Amazon</td>\n",
       "      <td>6400</td>\n",
       "      <td>7050000</td>\n",
       "    </tr>\n",
       "    <tr>\n",
       "      <th>1</th>\n",
       "      <td>Congo</td>\n",
       "      <td>4371</td>\n",
       "      <td>4014500</td>\n",
       "    </tr>\n",
       "    <tr>\n",
       "      <th>2</th>\n",
       "      <td>Yangtze</td>\n",
       "      <td>6418</td>\n",
       "      <td>1808500</td>\n",
       "    </tr>\n",
       "    <tr>\n",
       "      <th>3</th>\n",
       "      <td>Mississippi</td>\n",
       "      <td>3730</td>\n",
       "      <td>3202230</td>\n",
       "    </tr>\n",
       "  </tbody>\n",
       "</table>\n",
       "</div>"
      ],
      "text/plain": [
       "         River  Length(km)  Drainage Area(km^2)\n",
       "0       Amazon        6400              7050000\n",
       "1        Congo        4371              4014500\n",
       "2      Yangtze        6418              1808500\n",
       "3  Mississippi        3730              3202230"
      ]
     },
     "execution_count": 246,
     "metadata": {},
     "output_type": "execute_result"
    }
   ],
   "source": [
    "df1 = pd.DataFrame([['Amazon', 6400, 7050000],\n",
    "       ['Congo', 4371, 4014500],\n",
    "       ['Yangtze', 6418, 1808500],\n",
    "       ['Mississippi', 3730, 3202230]],\n",
    "       columns = ['River', 'Length(km)', 'Drainage Area(km^2)']\n",
    "       )\n",
    "df1"
   ]
  },
  {
   "cell_type": "markdown",
   "metadata": {},
   "source": [
    "## Practice 1-2"
   ]
  },
  {
   "cell_type": "code",
   "execution_count": 247,
   "metadata": {},
   "outputs": [
    {
     "data": {
      "text/html": [
       "<div>\n",
       "<style scoped>\n",
       "    .dataframe tbody tr th:only-of-type {\n",
       "        vertical-align: middle;\n",
       "    }\n",
       "\n",
       "    .dataframe tbody tr th {\n",
       "        vertical-align: top;\n",
       "    }\n",
       "\n",
       "    .dataframe thead th {\n",
       "        text-align: right;\n",
       "    }\n",
       "</style>\n",
       "<table border=\"1\" class=\"dataframe\">\n",
       "  <thead>\n",
       "    <tr style=\"text-align: right;\">\n",
       "      <th></th>\n",
       "      <th>River</th>\n",
       "      <th>Length(km)</th>\n",
       "      <th>Drainage Area(km^2)</th>\n",
       "    </tr>\n",
       "  </thead>\n",
       "  <tbody>\n",
       "    <tr>\n",
       "      <th>0</th>\n",
       "      <td>Zambezi</td>\n",
       "      <td>2574</td>\n",
       "      <td>1331000</td>\n",
       "    </tr>\n",
       "    <tr>\n",
       "      <th>1</th>\n",
       "      <td>Mekong</td>\n",
       "      <td>4023</td>\n",
       "      <td>811000</td>\n",
       "    </tr>\n",
       "    <tr>\n",
       "      <th>2</th>\n",
       "      <td>Murray</td>\n",
       "      <td>2508</td>\n",
       "      <td>1061469</td>\n",
       "    </tr>\n",
       "    <tr>\n",
       "      <th>3</th>\n",
       "      <td>Rhône</td>\n",
       "      <td>813</td>\n",
       "      <td>98000</td>\n",
       "    </tr>\n",
       "    <tr>\n",
       "      <th>4</th>\n",
       "      <td>Cubango</td>\n",
       "      <td>1056</td>\n",
       "      <td>530000</td>\n",
       "    </tr>\n",
       "  </tbody>\n",
       "</table>\n",
       "</div>"
      ],
      "text/plain": [
       "     River  Length(km)  Drainage Area(km^2)\n",
       "0  Zambezi        2574              1331000\n",
       "1   Mekong        4023               811000\n",
       "2   Murray        2508              1061469\n",
       "3    Rhône         813                98000\n",
       "4  Cubango        1056               530000"
      ]
     },
     "execution_count": 247,
     "metadata": {},
     "output_type": "execute_result"
    }
   ],
   "source": [
    "df2 = pd.DataFrame({\n",
    "    'River': ['Zambezi','Mekong','Murray','Rhône','Cubango'],\n",
    "    'Length(km)' : [2574, 4023, 2508, 813, 1056],\n",
    "    'Drainage Area(km^2)': [1331000, 811000, 1061469, 98000, 530000]\n",
    "})\n",
    "df2"
   ]
  },
  {
   "cell_type": "markdown",
   "metadata": {},
   "source": [
    "## Practice 6"
   ]
  },
  {
   "cell_type": "code",
   "execution_count": 251,
   "metadata": {},
   "outputs": [
    {
     "name": "stdout",
     "output_type": "stream",
     "text": [
      "         River  Length(km)  Drainage Area(km^2)  Discharge(m^2)  \\\n",
      "0       Amazon        6400              7050000          209000   \n",
      "1        Congo        4371              4014500           41200   \n",
      "2      Yangtze        6418              1808500           30166   \n",
      "3  Mississippi        3730              3202230           16792   \n",
      "4      Zambezi        2574              1331000            3400   \n",
      "5       Mekong        4023               811000           16000   \n",
      "6       Murray        2508              1061469             767   \n",
      "7        Rhône         813                98000            1710   \n",
      "8      Cubango        1056               530000             475   \n",
      "\n",
      "               Mouth                Source      Continent  \n",
      "0     Atlantic Ocean           Rio Mantaro  South America  \n",
      "1     Atlantic Ocean         Lualaba River         Africa  \n",
      "2     East China Sea  Jianggendiru Glacier           Asia  \n",
      "3     Gulf of Mexico           Lake Itasca  North America  \n",
      "4       Indian Ocean      Miombo Woodlands         Africa  \n",
      "5    South China Sea     Lasagongma Spring           Asia  \n",
      "6     Southern Ocean       Australian Alps        Oceania  \n",
      "7  Mediterranean Sea         Rhône Glacier         Europe  \n",
      "8     Okavango Delta           Bié Plateau         Africa  \n"
     ]
    }
   ],
   "source": [
    "drain = pd.concat([df1,df2])\n",
    "drain.reset_index(inplace = True, drop = True)\n",
    "df3 = pd.DataFrame({\n",
    "    'Discharge(m^2)': [209000, 41200, 30166,16792, 3400, 16000, 767, 1710, 475],\n",
    "    'Mouth': ['Atlantic Ocean','Atlantic Ocean','East China Sea','Gulf of Mexico','Indian Ocean','South China Sea', 'Southern Ocean', 'Mediterranean Sea', 'Okavango Delta'],\n",
    "    'Source' : ['Rio Mantaro','Lualaba River','Jianggendiru Glacier','Lake Itasca','Miombo Woodlands','Lasagongma Spring', 'Australian Alps', 'Rhône Glacier', 'Bié Plateau'],\n",
    "    'Continent': ['South America', 'Africa', 'Asia', 'North America', 'Africa', 'Asia', 'Oceania', 'Europe', 'Africa']\n",
    "})\n",
    "\n",
    "#print(df3)\n",
    "rivers = pd.concat([drain,df3],axis=1)\n",
    "print(rivers)"
   ]
  },
  {
   "cell_type": "code",
   "execution_count": 270,
   "metadata": {},
   "outputs": [
    {
     "data": {
      "text/html": [
       "<div>\n",
       "<style scoped>\n",
       "    .dataframe tbody tr th:only-of-type {\n",
       "        vertical-align: middle;\n",
       "    }\n",
       "\n",
       "    .dataframe tbody tr th {\n",
       "        vertical-align: top;\n",
       "    }\n",
       "\n",
       "    .dataframe thead th {\n",
       "        text-align: right;\n",
       "    }\n",
       "</style>\n",
       "<table border=\"1\" class=\"dataframe\">\n",
       "  <thead>\n",
       "    <tr style=\"text-align: right;\">\n",
       "      <th></th>\n",
       "      <th>River</th>\n",
       "      <th>Length(km)</th>\n",
       "      <th>Drainage Area(km^2)</th>\n",
       "      <th>Discharge(m^2)</th>\n",
       "      <th>Mouth</th>\n",
       "      <th>Source</th>\n",
       "      <th>Continent</th>\n",
       "    </tr>\n",
       "  </thead>\n",
       "  <tbody>\n",
       "    <tr>\n",
       "      <th>0</th>\n",
       "      <td>Amazon</td>\n",
       "      <td>6400</td>\n",
       "      <td>7050000</td>\n",
       "      <td>209000</td>\n",
       "      <td>Atlantic Ocean</td>\n",
       "      <td>Rio Mantaro</td>\n",
       "      <td>South America</td>\n",
       "    </tr>\n",
       "    <tr>\n",
       "      <th>1</th>\n",
       "      <td>Congo</td>\n",
       "      <td>4371</td>\n",
       "      <td>4014500</td>\n",
       "      <td>41200</td>\n",
       "      <td>Atlantic Ocean</td>\n",
       "      <td>Lualaba River</td>\n",
       "      <td>Africa</td>\n",
       "    </tr>\n",
       "    <tr>\n",
       "      <th>2</th>\n",
       "      <td>Yangtze</td>\n",
       "      <td>6418</td>\n",
       "      <td>1808500</td>\n",
       "      <td>30166</td>\n",
       "      <td>East China Sea</td>\n",
       "      <td>Jianggendiru Glacier</td>\n",
       "      <td>Asia</td>\n",
       "    </tr>\n",
       "    <tr>\n",
       "      <th>3</th>\n",
       "      <td>Mississippi</td>\n",
       "      <td>3730</td>\n",
       "      <td>3202230</td>\n",
       "      <td>16792</td>\n",
       "      <td>Gulf of Mexico</td>\n",
       "      <td>Lake Itasca</td>\n",
       "      <td>North America</td>\n",
       "    </tr>\n",
       "    <tr>\n",
       "      <th>4</th>\n",
       "      <td>Zambezi</td>\n",
       "      <td>2574</td>\n",
       "      <td>1331000</td>\n",
       "      <td>3400</td>\n",
       "      <td>Indian Ocean</td>\n",
       "      <td>Miombo Woodlands</td>\n",
       "      <td>Africa</td>\n",
       "    </tr>\n",
       "    <tr>\n",
       "      <th>5</th>\n",
       "      <td>Mekong</td>\n",
       "      <td>4023</td>\n",
       "      <td>811000</td>\n",
       "      <td>16000</td>\n",
       "      <td>South China Sea</td>\n",
       "      <td>Lasagongma Spring</td>\n",
       "      <td>Asia</td>\n",
       "    </tr>\n",
       "    <tr>\n",
       "      <th>6</th>\n",
       "      <td>Murray</td>\n",
       "      <td>2508</td>\n",
       "      <td>1061469</td>\n",
       "      <td>767</td>\n",
       "      <td>Southern Ocean</td>\n",
       "      <td>Australian Alps</td>\n",
       "      <td>Oceania</td>\n",
       "    </tr>\n",
       "    <tr>\n",
       "      <th>7</th>\n",
       "      <td>Rhône</td>\n",
       "      <td>813</td>\n",
       "      <td>98000</td>\n",
       "      <td>1710</td>\n",
       "      <td>Mediterranean Sea</td>\n",
       "      <td>Rhône Glacier</td>\n",
       "      <td>Europe</td>\n",
       "    </tr>\n",
       "    <tr>\n",
       "      <th>8</th>\n",
       "      <td>Cubango</td>\n",
       "      <td>1056</td>\n",
       "      <td>530000</td>\n",
       "      <td>475</td>\n",
       "      <td>Okavango Delta</td>\n",
       "      <td>Bié Plateau</td>\n",
       "      <td>Africa</td>\n",
       "    </tr>\n",
       "  </tbody>\n",
       "</table>\n",
       "</div>"
      ],
      "text/plain": [
       "         River  Length(km)  Drainage Area(km^2)  Discharge(m^2)  \\\n",
       "0       Amazon        6400              7050000          209000   \n",
       "1        Congo        4371              4014500           41200   \n",
       "2      Yangtze        6418              1808500           30166   \n",
       "3  Mississippi        3730              3202230           16792   \n",
       "4      Zambezi        2574              1331000            3400   \n",
       "5       Mekong        4023               811000           16000   \n",
       "6       Murray        2508              1061469             767   \n",
       "7        Rhône         813                98000            1710   \n",
       "8      Cubango        1056               530000             475   \n",
       "\n",
       "               Mouth                Source      Continent  \n",
       "0     Atlantic Ocean           Rio Mantaro  South America  \n",
       "1     Atlantic Ocean         Lualaba River         Africa  \n",
       "2     East China Sea  Jianggendiru Glacier           Asia  \n",
       "3     Gulf of Mexico           Lake Itasca  North America  \n",
       "4       Indian Ocean      Miombo Woodlands         Africa  \n",
       "5    South China Sea     Lasagongma Spring           Asia  \n",
       "6     Southern Ocean       Australian Alps        Oceania  \n",
       "7  Mediterranean Sea         Rhône Glacier         Europe  \n",
       "8     Okavango Delta           Bié Plateau         Africa  "
      ]
     },
     "execution_count": 270,
     "metadata": {},
     "output_type": "execute_result"
    }
   ],
   "source": [
    "rivers"
   ]
  },
  {
   "cell_type": "code",
   "execution_count": 283,
   "metadata": {},
   "outputs": [
    {
     "data": {
      "image/png": "[encoded data removed]",
      "text/plain": [
       "<Figure size 640x480 with 1 Axes>"
      ]
     },
     "metadata": {},
     "output_type": "display_data"
    }
   ],
   "source": [
    "import matplotlib.pyplot as plt\n",
    "import pandas as pd\n",
    "import numpy as np\n",
    "\n",
    "# Sample data (your provided DataFrame)\n",
    "data = {\n",
    "    'River': ['Amazon', 'Congo', 'Yangtze', 'Mississippi', 'Zambezi', 'Mekong', 'Murray', 'Rhône', 'Cubango'],\n",
    "    'Length(km)': [6400, 4371, 6418, 3730, 2574, 4023, 2508, 813, 1056],\n",
    "    'Drainage Area(km^2)': [7050000, 4014500, 1808500, 3202230, 1331000, 811000, 1061469, 98000, 530000],\n",
    "    'Discharge(m^3)': [209000, 41200, 30166, 16792, 3400, 16000, 767, 1710, 475],\n",
    "    'Mouth': ['Atlantic Ocean', 'Atlantic Ocean', 'East China Sea', 'Gulf of Mexico', 'Indian Ocean', 'South China Sea', 'Southern Ocean', 'Mediterranean Sea', 'Okavango Delta'],\n",
    "    'Source': ['Rio Mantaro', 'Lualaba River', 'Jianggendiru Glacier', 'Lake Itasca', 'Miombo Woodlands', 'Lasagongma Spring', 'Australian Alps', 'Rhône Glacier', 'Bié Plateau'],\n",
    "    'Continent': ['South America', 'Africa', 'Asia', 'North America', 'Africa', 'Asia', 'Oceania', 'Europe', 'Africa']\n",
    "}\n",
    "\n",
    "# Create a DataFrame\n",
    "rivers = pd.DataFrame(data)\n",
    "\n",
    "# Define a mapping of continents to numeric values\n",
    "continent_mapping = {\n",
    "    'South America': 0,\n",
    "    'Africa': 1,\n",
    "    'Asia': 2,\n",
    "    'North America': 3,\n",
    "    'Oceania': 4,\n",
    "    'Europe': 5\n",
    "}\n",
    "\n",
    "# Map the 'Continent' column to numeric values\n",
    "rivers['ContinentNumeric'] = rivers['Continent'].map(continent_mapping)\n",
    "\n",
    "# Create a scatter plot with variable colors based on 'ContinentNumeric'\n",
    "plt.scatter(rivers['Length(km)'], rivers['Discharge(m^3)'], c=rivers['ContinentNumeric'], cmap='Set3', label=rivers['Continent'])\n",
    "\n",
    "# Add labels and a title\n",
    "plt.xlabel('Length (km)')\n",
    "plt.ylabel('Discharge (m^3)')\n",
    "plt.title('Rivers Scatter Plot by Continent')\n",
    "\n",
    "\n",
    "# Dark background\n",
    "plt.gca().set_facecolor('grey')  # Set the background color to black\n",
    "\n",
    "# Customize gridlines and ticks\n",
    "plt.grid(color='black', linestyle='--', linewidth=0.5)\n",
    "plt.tick_params(axis='both', colors='white')\n",
    "\n",
    "# Add a legend\n",
    "legend = plt.legend(title='Continent', loc='upper left', bbox_to_anchor=(1, 1))\n",
    "\n",
    "# Show the plot\n",
    "plt.show()"
   ]
  },
  {
   "cell_type": "code",
   "execution_count": 286,
   "metadata": {},
   "outputs": [
    {
     "name": "stderr",
     "output_type": "stream",
     "text": [
      "/var/folders/47/h_qs1w2n1p3bbhgw5ddnx8900000gn/T/ipykernel_32819/2702496040.py:32: UserWarning: No data for colormapping provided via 'c'. Parameters 'cmap' will be ignored\n",
      "  plt.scatter(data_subset['Length(km)'], data_subset['Drainage Area(km^2)'], label=continent_name, cmap='Set3')\n"
     ]
    },
    {
     "data": {
      "image/png": "[encoded data removed]",
      "text/plain": [
       "<Figure size 800x600 with 1 Axes>"
      ]
     },
     "metadata": {},
     "output_type": "display_data"
    }
   ],
   "source": [
    "# Sample data (your provided DataFrame)\n",
    "data = {\n",
    "    'River': ['Amazon', 'Congo', 'Yangtze', 'Mississippi', 'Zambezi', 'Mekong', 'Murray', 'Rhône', 'Cubango'],\n",
    "    'Length(km)': [6400, 4371, 6418, 3730, 2574, 4023, 2508, 813, 1056],\n",
    "    'Drainage Area(km^2)': [7050000, 4014500, 1808500, 3202230, 1331000, 811000, 1061469, 98000, 530000],\n",
    "    'Discharge(m^3)': [209000, 41200, 30166, 16792, 3400, 16000, 767, 1710, 475],\n",
    "    'Mouth': ['Atlantic Ocean', 'Atlantic Ocean', 'East China Sea', 'Gulf of Mexico', 'Indian Ocean', 'South China Sea', 'Southern Ocean', 'Mediterranean Sea', 'Okavango Delta'],\n",
    "    'Source': ['Rio Mantaro', 'Lualaba River', 'Jianggendiru Glacier', 'Lake Itasca', 'Miombo Woodlands', 'Lasagongma Spring', 'Australian Alps', 'Rhône Glacier', 'Bié Plateau'],\n",
    "    'Continent': ['South America', 'Africa', 'Asia', 'North America', 'Africa', 'Asia', 'Oceania', 'Europe', 'Africa']\n",
    "}\n",
    "\n",
    "# Create a DataFrame\n",
    "rivers = pd.DataFrame(data)\n",
    "\n",
    "# Create a mapping of continents to unique integers\n",
    "continent_mapping = {\n",
    "    'South America': 0,\n",
    "    'Africa': 1,\n",
    "    'Asia': 2,\n",
    "    'North America': 3,\n",
    "    'Oceania': 4,\n",
    "    'Europe': 5\n",
    "}\n",
    "\n",
    "# Map the 'Continent' column to integers based on the mapping\n",
    "rivers['ContinentNumeric'] = rivers['Continent'].map(continent_mapping)\n",
    "\n",
    "# Create a scatter plot for each continent with the 'Set3' colormap\n",
    "plt.figure(figsize=(8, 6))\n",
    "for continent_numeric, continent_name in rivers[['ContinentNumeric', 'Continent']].drop_duplicates().values:\n",
    "    data_subset = rivers[rivers['ContinentNumeric'] == continent_numeric]\n",
    "    plt.scatter(data_subset['Length(km)'], data_subset['Drainage Area(km^2)'], label=continent_name, cmap='Set3')\n",
    "\n",
    "# Add labels and a title\n",
    "plt.xlabel('Length (km)')\n",
    "plt.ylabel('Drainage Area (km^2)')\n",
    "plt.title('Rivers Scatter Plot by Continent (Set3 Colormap)')\n",
    "\n",
    "# Dark background\n",
    "plt.gca().set_facecolor('grey')\n",
    "\n",
    "# Customize gridlines and ticks\n",
    "plt.grid(color='black', linestyle='--', linewidth=0.5)\n",
    "plt.tick_params(axis='both', colors='white')\n",
    "\n",
    "# Add a legend\n",
    "plt.legend(title='Continent', loc='upper left')\n",
    "\n",
    "# Show the plot\n",
    "plt.show()"
   ]
  },
  {
   "cell_type": "code",
   "execution_count": 293,
   "metadata": {},
   "outputs": [
    {
     "data": {
      "image/png": "[encoded data removed]",
      "text/plain": [
       "<Figure size 640x480 with 1 Axes>"
      ]
     },
     "metadata": {},
     "output_type": "display_data"
    }
   ],
   "source": [
    "plt.scatter(rivers['Length(km)'], rivers['Discharge(m^3)'], color = 'hotpink')\n",
    "plt.xlabel('Length (km)')\n",
    "plt.ylabel('Discharge (m^3)')\n",
    "plt.title('Rivers Scatter Plot')\n",
    "plt.gca().set_facecolor('lightgrey')\n",
    "\n",
    "# Customize gridlines and ticks\n",
    "plt.grid(color='black', linestyle='--', linewidth=0.5)\n",
    "plt.show()"
   ]
  },
  {
   "cell_type": "code",
   "execution_count": 296,
   "metadata": {},
   "outputs": [],
   "source": [
    "rivers.to_csv('../data/rivers.csv')"
   ]
  },
  {
   "cell_type": "code",
   "execution_count": null,
   "metadata": {},
   "outputs": [],
   "source": [
    "bsrn = pd.read_csv(\"https://raw.githubusercontent.com/environmental-data-science\" \\\n",
    "            \"/eds217_2023/main/data/BSRN_GOB_2019-10.csv\")"
   ]
  },
  {
   "cell_type": "markdown",
   "metadata": {},
   "source": [
    "## Practice 2-1"
   ]
  },
  {
   "cell_type": "code",
   "execution_count": null,
   "metadata": {},
   "outputs": [
    {
     "data": {
      "text/plain": [
       "Index(['DATE', 'H_m', 'SWD_Wm2', 'STD_SWD', 'DIR_Wm2', 'STD_DIR', 'DIF_Wm2',\n",
       "       'STD_DIF', 'LWD_Wm2', 'STD_LWD', 'SWU_Wm2', 'LWU_Wm2', 'T_degC', 'RH',\n",
       "       'P_hPa'],\n",
       "      dtype='object')"
      ]
     },
     "execution_count": 190,
     "metadata": {},
     "output_type": "execute_result"
    }
   ],
   "source": [
    "bsrn.columns"
   ]
  },
  {
   "cell_type": "code",
   "execution_count": null,
   "metadata": {},
   "outputs": [
    {
     "name": "stdout",
     "output_type": "stream",
     "text": [
      "<class 'pandas.core.frame.DataFrame'>\n",
      "RangeIndex: 44640 entries, 0 to 44639\n",
      "Data columns (total 15 columns):\n",
      " #   Column   Non-Null Count  Dtype  \n",
      "---  ------   --------------  -----  \n",
      " 0   DATE     44640 non-null  object \n",
      " 1   H_m      44640 non-null  int64  \n",
      " 2   SWD_Wm2  44630 non-null  float64\n",
      " 3   STD_SWD  44637 non-null  float64\n",
      " 4   DIR_Wm2  44623 non-null  float64\n",
      " 5   STD_DIR  44623 non-null  float64\n",
      " 6   DIF_Wm2  44632 non-null  float64\n",
      " 7   STD_DIF  44632 non-null  float64\n",
      " 8   LWD_Wm2  44589 non-null  float64\n",
      " 9   STD_LWD  44637 non-null  float64\n",
      " 10  SWU_Wm2  44640 non-null  int64  \n",
      " 11  LWU_Wm2  44640 non-null  int64  \n",
      " 12  T_degC   44640 non-null  float64\n",
      " 13  RH       44640 non-null  float64\n",
      " 14  P_hPa    44640 non-null  int64  \n",
      "dtypes: float64(10), int64(4), object(1)\n",
      "memory usage: 5.1+ MB\n"
     ]
    },
    {
     "data": {
      "text/html": [
       "<div>\n",
       "<style scoped>\n",
       "    .dataframe tbody tr th:only-of-type {\n",
       "        vertical-align: middle;\n",
       "    }\n",
       "\n",
       "    .dataframe tbody tr th {\n",
       "        vertical-align: top;\n",
       "    }\n",
       "\n",
       "    .dataframe thead th {\n",
       "        text-align: right;\n",
       "    }\n",
       "</style>\n",
       "<table border=\"1\" class=\"dataframe\">\n",
       "  <thead>\n",
       "    <tr style=\"text-align: right;\">\n",
       "      <th></th>\n",
       "      <th>DATE</th>\n",
       "      <th>H_m</th>\n",
       "      <th>SWD_Wm2</th>\n",
       "      <th>STD_SWD</th>\n",
       "      <th>DIR_Wm2</th>\n",
       "      <th>STD_DIR</th>\n",
       "      <th>DIF_Wm2</th>\n",
       "      <th>STD_DIF</th>\n",
       "      <th>LWD_Wm2</th>\n",
       "      <th>STD_LWD</th>\n",
       "      <th>SWU_Wm2</th>\n",
       "      <th>LWU_Wm2</th>\n",
       "      <th>T_degC</th>\n",
       "      <th>RH</th>\n",
       "      <th>P_hPa</th>\n",
       "    </tr>\n",
       "  </thead>\n",
       "  <tbody>\n",
       "    <tr>\n",
       "      <th>44635</th>\n",
       "      <td>2019-10-31 23:55:00</td>\n",
       "      <td>2</td>\n",
       "      <td>-2.0</td>\n",
       "      <td>0.0</td>\n",
       "      <td>0.0</td>\n",
       "      <td>0.0</td>\n",
       "      <td>-2.0</td>\n",
       "      <td>0.0</td>\n",
       "      <td>380.0</td>\n",
       "      <td>0.1</td>\n",
       "      <td>0</td>\n",
       "      <td>423</td>\n",
       "      <td>23.0</td>\n",
       "      <td>35.6</td>\n",
       "      <td>964</td>\n",
       "    </tr>\n",
       "    <tr>\n",
       "      <th>44636</th>\n",
       "      <td>2019-10-31 23:56:00</td>\n",
       "      <td>2</td>\n",
       "      <td>-2.0</td>\n",
       "      <td>0.0</td>\n",
       "      <td>0.0</td>\n",
       "      <td>0.0</td>\n",
       "      <td>-2.0</td>\n",
       "      <td>0.0</td>\n",
       "      <td>380.0</td>\n",
       "      <td>0.1</td>\n",
       "      <td>0</td>\n",
       "      <td>423</td>\n",
       "      <td>23.1</td>\n",
       "      <td>35.5</td>\n",
       "      <td>964</td>\n",
       "    </tr>\n",
       "    <tr>\n",
       "      <th>44637</th>\n",
       "      <td>2019-10-31 23:57:00</td>\n",
       "      <td>2</td>\n",
       "      <td>-2.0</td>\n",
       "      <td>0.0</td>\n",
       "      <td>0.0</td>\n",
       "      <td>0.0</td>\n",
       "      <td>-2.0</td>\n",
       "      <td>0.0</td>\n",
       "      <td>380.0</td>\n",
       "      <td>0.1</td>\n",
       "      <td>0</td>\n",
       "      <td>423</td>\n",
       "      <td>23.0</td>\n",
       "      <td>35.3</td>\n",
       "      <td>964</td>\n",
       "    </tr>\n",
       "    <tr>\n",
       "      <th>44638</th>\n",
       "      <td>2019-10-31 23:58:00</td>\n",
       "      <td>2</td>\n",
       "      <td>-2.0</td>\n",
       "      <td>0.0</td>\n",
       "      <td>0.0</td>\n",
       "      <td>0.0</td>\n",
       "      <td>-2.0</td>\n",
       "      <td>0.0</td>\n",
       "      <td>381.0</td>\n",
       "      <td>0.2</td>\n",
       "      <td>0</td>\n",
       "      <td>423</td>\n",
       "      <td>23.0</td>\n",
       "      <td>35.2</td>\n",
       "      <td>964</td>\n",
       "    </tr>\n",
       "    <tr>\n",
       "      <th>44639</th>\n",
       "      <td>2019-10-31 23:59:00</td>\n",
       "      <td>2</td>\n",
       "      <td>-2.0</td>\n",
       "      <td>0.0</td>\n",
       "      <td>0.0</td>\n",
       "      <td>0.0</td>\n",
       "      <td>-2.0</td>\n",
       "      <td>0.0</td>\n",
       "      <td>381.0</td>\n",
       "      <td>0.1</td>\n",
       "      <td>0</td>\n",
       "      <td>423</td>\n",
       "      <td>23.1</td>\n",
       "      <td>35.0</td>\n",
       "      <td>964</td>\n",
       "    </tr>\n",
       "  </tbody>\n",
       "</table>\n",
       "</div>"
      ],
      "text/plain": [
       "                      DATE  H_m  SWD_Wm2  STD_SWD  DIR_Wm2  STD_DIR  DIF_Wm2  \\\n",
       "44635  2019-10-31 23:55:00    2     -2.0      0.0      0.0      0.0     -2.0   \n",
       "44636  2019-10-31 23:56:00    2     -2.0      0.0      0.0      0.0     -2.0   \n",
       "44637  2019-10-31 23:57:00    2     -2.0      0.0      0.0      0.0     -2.0   \n",
       "44638  2019-10-31 23:58:00    2     -2.0      0.0      0.0      0.0     -2.0   \n",
       "44639  2019-10-31 23:59:00    2     -2.0      0.0      0.0      0.0     -2.0   \n",
       "\n",
       "       STD_DIF  LWD_Wm2  STD_LWD  SWU_Wm2  LWU_Wm2  T_degC    RH  P_hPa  \n",
       "44635      0.0    380.0      0.1        0      423    23.0  35.6    964  \n",
       "44636      0.0    380.0      0.1        0      423    23.1  35.5    964  \n",
       "44637      0.0    380.0      0.1        0      423    23.0  35.3    964  \n",
       "44638      0.0    381.0      0.2        0      423    23.0  35.2    964  \n",
       "44639      0.0    381.0      0.1        0      423    23.1  35.0    964  "
      ]
     },
     "execution_count": 191,
     "metadata": {},
     "output_type": "execute_result"
    }
   ],
   "source": [
    "bsrn.info()\n",
    "bsrn.tail()\n",
    "\n"
   ]
  },
  {
   "cell_type": "markdown",
   "metadata": {},
   "source": [
    "## Practice 3"
   ]
  },
  {
   "cell_type": "code",
   "execution_count": null,
   "metadata": {},
   "outputs": [
    {
     "name": "stdout",
     "output_type": "stream",
     "text": [
      "                     SWD_Wm2  DIR_Wm2  DIF_Wm2  LWD_Wm2\n",
      "DATE                                                   \n",
      "2019-10-01 00:00:00     -3.0      0.0     -3.0    300.0\n",
      "2019-10-02 00:00:00     -2.0      0.0     -2.0    306.0\n",
      "2019-10-03 00:00:00     -2.0      0.0     -2.0    293.0\n",
      "2019-10-04 00:00:00     -3.0      0.0     -3.0    287.0\n",
      "2019-10-05 00:00:00     -2.0      0.0     -2.0    305.0\n",
      "2019-10-06 00:00:00     -3.0      0.0     -3.0    294.0\n",
      "2019-10-07 00:00:00     -3.0      0.0     -3.0    277.0\n",
      "2019-10-08 00:00:00     -2.0      0.0     -3.0    292.0\n",
      "2019-10-09 00:00:00     -2.0      0.0     -2.0    294.0\n",
      "2019-10-10 00:00:00     -2.0      0.0     -2.0    317.0\n",
      "2019-10-11 00:00:00     -2.0      0.0     -2.0    318.0\n",
      "2019-10-12 00:00:00     -2.0      0.0     -2.0    341.0\n",
      "2019-10-13 00:00:00     -3.0      0.0     -3.0    367.0\n",
      "2019-10-14 00:00:00     -3.0      0.0     -2.0    401.0\n",
      "2019-10-15 00:00:00     -2.0      0.0     -2.0    401.0\n",
      "2019-10-16 00:00:00     -3.0      0.0     -3.0    393.0\n",
      "2019-10-17 00:00:00     -2.0      0.0     -2.0    339.0\n",
      "2019-10-18 00:00:00     -2.0      0.0     -2.0    355.0\n",
      "2019-10-19 00:00:00     -2.0      0.0     -2.0    385.0\n",
      "2019-10-20 00:00:00     -2.0      0.0     -2.0    331.0\n",
      "2019-10-21 00:00:00     -3.0      0.0     -3.0    339.0\n",
      "2019-10-22 00:00:00     -3.0      0.0     -3.0    320.0\n",
      "2019-10-23 00:00:00     -2.0      0.0     -3.0    291.0\n",
      "2019-10-24 00:00:00     -2.0      0.0     -2.0    287.0\n",
      "2019-10-25 00:00:00     -2.0      0.0     -2.0    340.0\n",
      "2019-10-26 00:00:00     -2.0      0.0     -2.0    313.0\n",
      "2019-10-27 00:00:00     -3.0      0.0     -3.0    321.0\n",
      "2019-10-28 00:00:00     -2.0      0.0     -2.0    285.0\n",
      "2019-10-29 00:00:00     -3.0      0.0     -3.0    287.0\n",
      "2019-10-30 00:00:00     -3.0      0.0     -3.0    302.0\n",
      "2019-10-31 00:00:00     -2.0      0.0     -2.0    340.0\n"
     ]
    }
   ],
   "source": [
    "\n",
    "#pd.to_datetime(bsrn3a.DATE)\n",
    "bsrn3a = bsrn.iloc[::1440][['DATE', 'SWD_Wm2', 'DIR_Wm2', 'DIF_Wm2', 'LWD_Wm2']]\n",
    "bsrn3a.set_index('DATE', inplace=True)\n",
    "print(bsrn3a)\n",
    "\n",
    "#pd.date_range('10/1/2019','10/31/2019', freq='D')"
   ]
  },
  {
   "cell_type": "code",
   "execution_count": null,
   "metadata": {},
   "outputs": [
    {
     "name": "stdout",
     "output_type": "stream",
     "text": [
      "0        16.2\n",
      "60       18.2\n",
      "120      18.0\n",
      "180      17.9\n",
      "240      18.1\n",
      "         ... \n",
      "44340    27.1\n",
      "44400    23.6\n",
      "44460    22.7\n",
      "44520    22.0\n",
      "44580    23.1\n",
      "Name: T_degC, Length: 744, dtype: float64\n"
     ]
    }
   ],
   "source": [
    "bsrn3b = bsrn[['DATE', 'T_degC']]\n",
    "b_3 = bsrn3b.iloc[::60,-1]\n",
    "print(b_3)"
   ]
  },
  {
   "cell_type": "markdown",
   "metadata": {},
   "source": [
    "## Practice 4"
   ]
  },
  {
   "cell_type": "code",
   "execution_count": null,
   "metadata": {},
   "outputs": [
    {
     "data": {
      "text/plain": [
       "SWU_Wm2    110.445004\n",
       "SWD_Wm2    318.046516\n",
       "LWU_Wm2    455.054032\n",
       "LWD_Wm2    342.350692\n",
       "dtype: float64"
      ]
     },
     "execution_count": 194,
     "metadata": {},
     "output_type": "execute_result"
    }
   ],
   "source": [
    "a_4 = bsrn[[ 'SWU_Wm2', 'SWD_Wm2', 'LWU_Wm2', 'LWD_Wm2']]\n",
    "a_4.mean()"
   ]
  },
  {
   "cell_type": "markdown",
   "metadata": {},
   "source": [
    "## Practice 5"
   ]
  },
  {
   "cell_type": "code",
   "execution_count": 297,
   "metadata": {},
   "outputs": [],
   "source": [
    "\n",
    "bsrn['NET_SW'] = bsrn.SWD_Wm2 - bsrn.SWU_Wm2\n",
    "bsrn['NET_LW'] = bsrn.LWD_Wm2 - bsrn.LWU_Wm2\n",
    "bsrn['NET_RD'] = bsrn.NET_SW + bsrn.NET_LW\n",
    "bsrn.head()\n",
    "bsrn.to_csv('../data/bsrn.csv')"
   ]
  },
  {
   "cell_type": "code",
   "execution_count": null,
   "metadata": {},
   "outputs": [
    {
     "name": "stdout",
     "output_type": "stream",
     "text": [
      "    day       SW_in      SW_out       LW_in      LW_out     Net_Rad\n",
      "0     1  325.336345  115.334028  458.834028  321.219903   72.366295\n",
      "1     2  322.732453  113.939583  448.486111  318.131341   78.402643\n",
      "2     3  298.635417  103.261806  429.979861  330.516667   95.910417\n",
      "3     4  323.209173  113.222222  439.990972  314.129526   83.788153\n",
      "4     5  296.861806  105.461806  427.359722  324.660876   88.569840\n",
      "5     6  292.118915  104.219444  428.665278  330.458333   89.634214\n",
      "6     7  339.848611  119.959722  439.002778  303.437413   84.256606\n",
      "7     8  332.009028  116.752778  438.550000  313.126653   89.752262\n",
      "8     9  290.577083  104.436806  428.110417  342.506267  100.719359\n",
      "9    10  310.887500  108.638889  434.941667  331.667130   99.003475\n",
      "10   11  312.226389  108.406250  458.562500  350.486787   95.713491\n",
      "11   12  313.099306  108.276389  483.829167  375.387500   96.381250\n",
      "12   13  292.540972   97.745833  485.947222  389.507307   98.496173\n",
      "13   14  210.243056   76.329167  470.870139  390.913829   53.968033\n",
      "14   15  294.886806   91.408333  500.201389  399.457639  102.734722\n",
      "15   16  322.011111  114.262500  510.212500  400.745833   98.281944\n",
      "16   17  306.800000  106.773611  492.745833  390.968033   98.216817\n",
      "17   18  298.656250  104.536111  459.456944  364.097222   98.760417\n",
      "18   19  314.968750  110.327083  460.609028  365.431250  109.463889\n",
      "19   20  329.323611  113.339583  473.039583  357.791522  100.699097\n",
      "20   21  338.721334  117.433333  470.612500  340.713189   91.124215\n",
      "21   22  338.259722  117.554861  441.588194  325.689368  104.785962\n",
      "22   23  354.881944  122.917361  438.565972  306.553857   99.920083\n",
      "23   24  344.563194  119.732639  452.019444  319.499653   92.253648\n",
      "24   25  261.228472   87.575000  441.439583  344.902643   77.226008\n",
      "25   26  345.552778  118.828472  459.212500  337.203614  104.666435\n",
      "26   27  356.714583  123.323611  434.491667  309.846421  108.699097\n",
      "27   28  358.297636  125.206944  421.080556  303.482615  115.599582\n",
      "28   29  352.906944  122.894444  448.573611  322.271399  103.583159\n",
      "29   30  357.626129  123.736806  462.778472  331.607516  102.614903\n",
      "30   31  323.794302  107.959722  466.917361  356.192629  105.046592\n"
     ]
    }
   ],
   "source": [
    "\n",
    "# bsrn['DATE']\n",
    "# bsrn.set_index('DATE', inplace=True)\n",
    "\n",
    "daily_rad = []\n",
    "for d in bsrn.index.day.unique():\n",
    "    avg_SWD = bsrn.SWD_Wm2[bsrn.index.day == d].mean()\n",
    "    avg_SWU = bsrn.SWU_Wm2[bsrn.index.day == d].mean()\n",
    "    avg_LWU = bsrn.LWU_Wm2[bsrn.index.day == d].mean()\n",
    "    avg_LWD = bsrn.LWD_Wm2[bsrn.index.day == d].mean()\n",
    "    avg_NTR = bsrn.NET_RD[bsrn.index.day == d].mean()\n",
    "    # Append the current day and these two values to our list of daily radiation values:\n",
    "    daily_rad.append([d, avg_SWD, avg_SWU, avg_LWU, avg_LWD, avg_NTR])\n",
    "\n",
    "daily_NRad = pd.DataFrame(daily_rad, columns=['day', 'SW_in', 'SW_out', 'LW_in', 'LW_out', 'Net_Rad'])\n",
    "print(daily_NRad)\n",
    "\n",
    "\n"
   ]
  }
 ],
 "metadata": {
  "kernelspec": {
   "display_name": "Python (eds217_2023)",
   "language": "python",
   "name": "eds217_2023"
  },
  "language_info": {
   "codemirror_mode": {
    "name": "ipython",
    "version": 3
   },
   "file_extension": ".py",
   "mimetype": "text/x-python",
   "name": "python",
   "nbconvert_exporter": "python",
   "pygments_lexer": "ipython3",
   "version": "3.10.12"
  },
  "orig_nbformat": 4
 },
 "nbformat": 4,
 "nbformat_minor": 2
}
